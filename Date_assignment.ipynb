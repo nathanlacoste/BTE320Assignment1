{
  "nbformat": 4,
  "nbformat_minor": 0,
  "metadata": {
    "colab": {
      "provenance": [],
      "authorship_tag": "ABX9TyM7LZOKiOCBscStV3SvIeWs",
      "include_colab_link": true
    },
    "kernelspec": {
      "name": "python3",
      "display_name": "Python 3"
    },
    "language_info": {
      "name": "python"
    }
  },
  "cells": [
    {
      "cell_type": "markdown",
      "metadata": {
        "id": "view-in-github",
        "colab_type": "text"
      },
      "source": [
        "<a href=\"https://colab.research.google.com/github/nathanlacoste/BTE320Assignment1/blob/main/Date_assignment.ipynb\" target=\"_parent\"><img src=\"https://colab.research.google.com/assets/colab-badge.svg\" alt=\"Open In Colab\"/></a>"
      ]
    },
    {
      "cell_type": "code",
      "execution_count": null,
      "metadata": {
        "colab": {
          "base_uri": "https://localhost:8080/"
        },
        "id": "0DZ3aJK6w5L2",
        "outputId": "5794e778-6776-4b5a-8224-8478546ca12b"
      },
      "outputs": [
        {
          "output_type": "stream",
          "name": "stdout",
          "text": [
            "Enter date: (MM / DD / YYYY)02/21/2024\n",
            "Month: 02\n",
            "Day: 21\n",
            "Year: 2024\n"
          ]
        }
      ],
      "source": [
        "# Date Assignment\n",
        "\n",
        "date = input('Enter date: (MM / DD / YYYY)')\n",
        "\n",
        "month = date[0:2]\n",
        "day = date[3:5]\n",
        "year = date[6:]\n",
        "\n",
        "print('Month:', month)\n",
        "print('Day:', day)\n",
        "print('Year:', year)\n"
      ]
    }
  ]
}