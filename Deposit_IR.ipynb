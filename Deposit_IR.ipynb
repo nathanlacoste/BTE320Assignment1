{
  "nbformat": 4,
  "nbformat_minor": 0,
  "metadata": {
    "colab": {
      "provenance": [],
      "authorship_tag": "ABX9TyN1kjgsQB3qm8YAgiuILJc3",
      "include_colab_link": true
    },
    "kernelspec": {
      "name": "python3",
      "display_name": "Python 3"
    },
    "language_info": {
      "name": "python"
    }
  },
  "cells": [
    {
      "cell_type": "markdown",
      "metadata": {
        "id": "view-in-github",
        "colab_type": "text"
      },
      "source": [
        "<a href=\"https://colab.research.google.com/github/nathanlacoste/BTE320Assignment1/blob/main/Deposit_IR.ipynb\" target=\"_parent\"><img src=\"https://colab.research.google.com/assets/colab-badge.svg\" alt=\"Open In Colab\"/></a>"
      ]
    },
    {
      "cell_type": "code",
      "source": [
        "# Deposit with Interest Rate\n",
        "\n",
        "name = input('Enter your name: ')\n",
        "customertype = input('Enter customer type (n: new, e: existing): ')\n",
        "deposit = float(input('Enter depost amount (in $): '))\n",
        "\n",
        "if customertype == 'n':\n",
        "  IR = .03\n",
        "else:\n",
        "  if deposit <= 1000:\n",
        "    IR = .03\n",
        "  elif deposit <= 10000:\n",
        "    IR = .0325\n",
        "  elif deposit > 10000:\n",
        "    IR = .035\n",
        "\n",
        "\n",
        "total = (1 + IR) * deposit\n",
        "print(total)"
      ],
      "metadata": {
        "id": "nQRUG2ZKaap9",
        "colab": {
          "base_uri": "https://localhost:8080/"
        },
        "outputId": "a84e337d-8308-4b82-c1c3-4868275bf078"
      },
      "execution_count": null,
      "outputs": [
        {
          "output_type": "stream",
          "name": "stdout",
          "text": [
            "Enter your name: Nathan\n",
            "Enter customer type (n: new, e: existing): e\n",
            "Enter depost amount (in $): 10000\n",
            "10325.0\n"
          ]
        }
      ]
    }
  ]
}