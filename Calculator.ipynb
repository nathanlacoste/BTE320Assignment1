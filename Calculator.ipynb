{
  "nbformat": 4,
  "nbformat_minor": 0,
  "metadata": {
    "colab": {
      "provenance": [],
      "authorship_tag": "ABX9TyNgvGPg6LdBmd3EIoBbi81/",
      "include_colab_link": true
    },
    "kernelspec": {
      "name": "python3",
      "display_name": "Python 3"
    },
    "language_info": {
      "name": "python"
    }
  },
  "cells": [
    {
      "cell_type": "markdown",
      "metadata": {
        "id": "view-in-github",
        "colab_type": "text"
      },
      "source": [
        "<a href=\"https://colab.research.google.com/github/nathanlacoste/BTE320Assignment1/blob/main/Calculator.ipynb\" target=\"_parent\"><img src=\"https://colab.research.google.com/assets/colab-badge.svg\" alt=\"Open In Colab\"/></a>"
      ]
    },
    {
      "cell_type": "code",
      "source": [
        "# Calculator/*\n",
        "\n",
        "while True:\n",
        "  a = float(input('Enter first number: '))\n",
        "  function = input('Function: ')\n",
        "  if function == 'break':\n",
        "    break\n",
        "  b = float(input('Enter second number: '))\n",
        "  if function == '/':\n",
        "    answer = a / b\n",
        "  elif function == '*':\n",
        "    answer = a * b\n",
        "  elif function == '+':\n",
        "    answer = a + b\n",
        "  elif function == '-':\n",
        "    answer = a - b\n",
        "  elif function == '**':\n",
        "    answer = a ** b\n",
        "  elif function == '%':\n",
        "    answer = a % b\n",
        "  elif function == '//':\n",
        "    answer = a // b\n",
        "  else:\n",
        "    print('Invalid operator:', operator)\n",
        "    continue\n",
        "  print('Result:', answer)"
      ],
      "metadata": {
        "colab": {
          "base_uri": "https://localhost:8080/"
        },
        "id": "s0iUqoEjd8si",
        "outputId": "8d89afb1-123d-4c0d-873d-5aad61a777ba"
      },
      "execution_count": 2,
      "outputs": [
        {
          "name": "stdout",
          "output_type": "stream",
          "text": [
            "Enter first number: 45\n",
            "Function: /\n",
            "Enter second number: 4\n",
            "Result: 11.25\n",
            "Enter first number: 10\n",
            "Function: *\n",
            "Enter second number: 2\n",
            "Result: 20.0\n",
            "Enter first number: 10\n",
            "Function: break\n"
          ]
        }
      ]
    }
  ]
}