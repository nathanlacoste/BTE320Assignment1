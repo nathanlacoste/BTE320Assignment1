{
  "nbformat": 4,
  "nbformat_minor": 0,
  "metadata": {
    "colab": {
      "provenance": [],
      "authorship_tag": "ABX9TyPlOiADxX1wLmENZSCmWlri",
      "include_colab_link": true
    },
    "kernelspec": {
      "name": "python3",
      "display_name": "Python 3"
    },
    "language_info": {
      "name": "python"
    }
  },
  "cells": [
    {
      "cell_type": "markdown",
      "metadata": {
        "id": "view-in-github",
        "colab_type": "text"
      },
      "source": [
        "<a href=\"https://colab.research.google.com/github/nathanlacoste/BTE320Assignment1/blob/main/Calculator.ipynb\" target=\"_parent\"><img src=\"https://colab.research.google.com/assets/colab-badge.svg\" alt=\"Open In Colab\"/></a>"
      ]
    },
    {
      "cell_type": "code",
      "execution_count": null,
      "metadata": {
        "colab": {
          "base_uri": "https://localhost:8080/",
          "height": 140
        },
        "id": "8UTsBWIQbsxN",
        "outputId": "09c4d285-5e9f-447c-b58e-f28eae2c5679"
      },
      "outputs": [
        {
          "output_type": "error",
          "ename": "SyntaxError",
          "evalue": "invalid syntax (<ipython-input-12-ffb98c31090d>, line 8)",
          "traceback": [
            "\u001b[0;36m  File \u001b[0;32m\"<ipython-input-12-ffb98c31090d>\"\u001b[0;36m, line \u001b[0;32m8\u001b[0m\n\u001b[0;31m    if function == /:\u001b[0m\n\u001b[0m                   ^\u001b[0m\n\u001b[0;31mSyntaxError\u001b[0m\u001b[0;31m:\u001b[0m invalid syntax\n"
          ]
        }
      ],
      "source": [
        "# Calculator\n",
        "\n",
        "\n",
        "while 1 == 1:\n",
        "  a = input('Value for a')\n",
        "  function = input('Function')\n",
        "  b = input('Value if b')\n",
        "  if function == '/':\n",
        "    answer = a / b\n",
        "  elif function == '*':\n",
        "    answer = a * b\n",
        "  elif function == '+':\n",
        "    answer = a + b\n",
        "  elif function == '-':\n",
        "    answer = a - b\n",
        "  print(answer)"
      ]
    },
    {
      "cell_type": "code",
      "source": [],
      "metadata": {
        "id": "Jgqh_11ns3-P"
      },
      "execution_count": null,
      "outputs": []
    },
    {
      "cell_type": "code",
      "source": [
        "# Calculator\n",
        "\n",
        "while True:\n",
        "  a = float(input('Enter first number: '))\n",
        "  function = input('Function: ')\n",
        "  if function == 'break':\n",
        "    break\n",
        "  b = float(input('Enter second number: '))\n",
        "  if function == '/':\n",
        "    answer = a / b\n",
        "  elif function == '*':\n",
        "    answer = a * b\n",
        "  elif function == '+':\n",
        "    answer = a + b\n",
        "  elif function == '-':\n",
        "    answer = a - b\n",
        "  elif function == '**':\n",
        "    answer = a ** b\n",
        "  elif function == '%':\n",
        "    answer = a % b\n",
        "  elif function == '//':\n",
        "    answer = a // b\n",
        "  else:\n",
        "    print('Invalid operator:', operator)\n",
        "    continue\n",
        "  print('Result:', answer)"
      ],
      "metadata": {
        "colab": {
          "base_uri": "https://localhost:8080/"
        },
        "id": "s0iUqoEjd8si",
        "outputId": "4f6c0371-7688-4df4-e9b2-2512e6d4cd4d"
      },
      "execution_count": null,
      "outputs": [
        {
          "name": "stdout",
          "output_type": "stream",
          "text": [
            "Enter first number: 1\n",
            "Function: break\n"
          ]
        }
      ]
    }
  ]
}