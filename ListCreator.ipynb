{
  "nbformat": 4,
  "nbformat_minor": 0,
  "metadata": {
    "colab": {
      "provenance": [],
      "authorship_tag": "ABX9TyPOxNyBfT/a/DiqZEQRGTA9",
      "include_colab_link": true
    },
    "kernelspec": {
      "name": "python3",
      "display_name": "Python 3"
    },
    "language_info": {
      "name": "python"
    }
  },
  "cells": [
    {
      "cell_type": "markdown",
      "metadata": {
        "id": "view-in-github",
        "colab_type": "text"
      },
      "source": [
        "<a href=\"https://colab.research.google.com/github/nathanlacoste/BTE320Assignment1/blob/main/ListCreator.ipynb\" target=\"_parent\"><img src=\"https://colab.research.google.com/assets/colab-badge.svg\" alt=\"Open In Colab\"/></a>"
      ]
    },
    {
      "cell_type": "code",
      "execution_count": null,
      "metadata": {
        "colab": {
          "base_uri": "https://localhost:8080/"
        },
        "id": "IVjcr0yLz_-s",
        "outputId": "a6030c4b-8b5c-4d24-89e6-a2a9416dea2f"
      },
      "outputs": [
        {
          "output_type": "stream",
          "name": "stdout",
          "text": [
            "Enter Value for List: 10\n",
            "Enter Value for List: 20\n",
            "Enter Value for List: 30\n",
            "Enter Value for List: 40\n",
            "Enter Value for List: 50\n",
            "Enter Value for List: 0\n",
            "Final List:  [10, 20, 30, 40, 50]\n"
          ]
        }
      ],
      "source": [
        "# User inputs list, computer appends the list as long as the user doesnt input the number 0, when user inputs 0, end the adding, end print list\n",
        "\n",
        "L = []\n",
        "userinput = int(input('Enter Value for List: '))\n",
        "\n",
        "while userinput != 0:\n",
        "  L.append(userinput)\n",
        "  userinput = int(input('Enter Value for List: '))\n",
        "\n",
        "print('Final List: ', L)\n"
      ]
    }
  ]
}