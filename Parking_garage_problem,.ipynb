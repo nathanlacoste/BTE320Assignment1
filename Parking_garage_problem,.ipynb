{
  "nbformat": 4,
  "nbformat_minor": 0,
  "metadata": {
    "colab": {
      "provenance": [],
      "authorship_tag": "ABX9TyMTJqkPGFT1Ud9t9rK94daM",
      "include_colab_link": true
    },
    "kernelspec": {
      "name": "python3",
      "display_name": "Python 3"
    },
    "language_info": {
      "name": "python"
    }
  },
  "cells": [
    {
      "cell_type": "markdown",
      "metadata": {
        "id": "view-in-github",
        "colab_type": "text"
      },
      "source": [
        "<a href=\"https://colab.research.google.com/github/nathanlacoste/BTE320Assignment1/blob/main/Parking_garage_problem%2C.ipynb\" target=\"_parent\"><img src=\"https://colab.research.google.com/assets/colab-badge.svg\" alt=\"Open In Colab\"/></a>"
      ]
    },
    {
      "cell_type": "code",
      "execution_count": null,
      "metadata": {
        "id": "4ArXBKsamZpT",
        "colab": {
          "base_uri": "https://localhost:8080/"
        },
        "outputId": "8a7dcf1f-1c3f-476a-f780-0c6189f1f436"
      },
      "outputs": [
        {
          "output_type": "stream",
          "name": "stdout",
          "text": [
            "Parking Rate by Hours Listed Below:\n",
            "1 10\n",
            "2 10\n",
            "3 12.5\n",
            "4 15.0\n",
            "5 17.5\n",
            "6 20\n",
            "7 20\n",
            "8 20\n"
          ]
        }
      ],
      "source": [
        "# Parking Garage Problem\n",
        "\n",
        "print('Parking Rate by Hours Listed Below:')\n",
        "\n",
        "for hours in range(1, 9, 1):\n",
        "  cost = hours * 2.5 + 5\n",
        "  if cost >= 20:\n",
        "    cost = 20\n",
        "  elif cost <= 10:\n",
        "    cost = 10\n",
        "  else:\n",
        "    cost\n",
        "  print(hours, cost)\n",
        "\n",
        "\n",
        "#for hours in range(1,2):\n",
        "#  print(hours, 10)\n",
        "\n",
        "#for hours in range(2, 6):\n",
        "#  print(hours, hours * 2.5 + 5)\n",
        "\n",
        "#for hours in range (6,9):\n",
        "#  print(hours, 20)"
      ]
    },
    {
      "cell_type": "code",
      "source": [],
      "metadata": {
        "id": "56hqDdpYJ83d"
      },
      "execution_count": null,
      "outputs": []
    }
  ]
}