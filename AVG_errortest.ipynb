{
  "nbformat": 4,
  "nbformat_minor": 0,
  "metadata": {
    "colab": {
      "provenance": [],
      "authorship_tag": "ABX9TyMejVfysCniZ/50XtvzJb24",
      "include_colab_link": true
    },
    "kernelspec": {
      "name": "python3",
      "display_name": "Python 3"
    },
    "language_info": {
      "name": "python"
    }
  },
  "cells": [
    {
      "cell_type": "markdown",
      "metadata": {
        "id": "view-in-github",
        "colab_type": "text"
      },
      "source": [
        "<a href=\"https://colab.research.google.com/github/nathanlacoste/BTE320Assignment1/blob/main/AVG_errortest.ipynb\" target=\"_parent\"><img src=\"https://colab.research.google.com/assets/colab-badge.svg\" alt=\"Open In Colab\"/></a>"
      ]
    },
    {
      "cell_type": "code",
      "execution_count": null,
      "metadata": {
        "colab": {
          "base_uri": "https://localhost:8080/"
        },
        "id": "E2Mc_lYT2IJC",
        "outputId": "15a73769-6a91-4953-e5b6-e5e3e0c929de"
      },
      "outputs": [
        {
          "output_type": "stream",
          "name": "stdout",
          "text": [
            "This will be displayed always\n"
          ]
        },
        {
          "output_type": "execute_result",
          "data": {
            "text/plain": [
              "2.0"
            ]
          },
          "metadata": {},
          "execution_count": 17
        }
      ],
      "source": [
        "def avg(alist):\n",
        "  try:\n",
        "    return sum(alist) / len(alist)\n",
        "  except TypeError:\n",
        "    print('THe list has to be numeric only')\n",
        "    return float('nan')\n",
        "  except ZeroDivisionError:\n",
        "    print('The list is empty')\n",
        "    return []\n",
        "  except NameError:\n",
        "    print('use only numbers')\n",
        "  except:\n",
        "    print('unknown error')\n",
        "\n",
        "\n",
        "l = [1,2,3]\n",
        "avg(l)\n"
      ]
    }
  ]
}