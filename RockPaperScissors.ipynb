{
  "nbformat": 4,
  "nbformat_minor": 0,
  "metadata": {
    "colab": {
      "provenance": [],
      "authorship_tag": "ABX9TyM8z+KQabTTsHtaT6PEm4iI",
      "include_colab_link": true
    },
    "kernelspec": {
      "name": "python3",
      "display_name": "Python 3"
    },
    "language_info": {
      "name": "python"
    }
  },
  "cells": [
    {
      "cell_type": "markdown",
      "metadata": {
        "id": "view-in-github",
        "colab_type": "text"
      },
      "source": [
        "<a href=\"https://colab.research.google.com/github/nathanlacoste/BTE320Assignment1/blob/main/RockPaperScissors.ipynb\" target=\"_parent\"><img src=\"https://colab.research.google.com/assets/colab-badge.svg\" alt=\"Open In Colab\"/></a>"
      ]
    },
    {
      "cell_type": "code",
      "execution_count": null,
      "metadata": {
        "colab": {
          "base_uri": "https://localhost:8080/"
        },
        "id": "vt1pkTGO2cfL",
        "outputId": "e7ddec9a-2e7e-4082-d6a2-4ab52849d6fb"
      },
      "outputs": [
        {
          "output_type": "stream",
          "name": "stdout",
          "text": [
            "Enter your selection: [rock, paper, scissors]rock\n",
            "scissors\n",
            "rock\n",
            "Player wins\n"
          ]
        }
      ],
      "source": [
        "import random\n",
        "\n",
        "pc_choice = random.choice(['rock', 'paper', 'scissors'])\n",
        "\n",
        "x = input(\"Enter your selection: [rock, paper, scissors]\")\n",
        "\n",
        "print(pc_choice)\n",
        "print(x)\n",
        "\n",
        "\n",
        "if x == pc_choice:\n",
        "  result = 'Draw'\n",
        "elif x == 'paper' and pc_choice == 'rock' or x == 'rock' and pc_choice == 'scissors' or x == 'scissors' and pc_choice == 'paper':\n",
        "    result = 'Player wins'\n",
        "else:\n",
        "    result = 'PC wins'\n",
        "\n",
        "\n",
        "print(result)\n",
        "\n"
      ]
    },
    {
      "cell_type": "code",
      "source": [
        "import random\n",
        "\n",
        "userinput = \"y\"\n",
        "\n",
        "while userinput == \"y\":\n",
        "  pc_choice = random.choice(['rock', 'paper', 'scissors'])\n",
        "  x = input(\"Enter your selection: [rock, paper, scissors]\")\n",
        "  print(pc_choice)\n",
        "  print(x)\n",
        "  if x == pc_choice:\n",
        "    result = 'Draw'\n",
        "  elif x == 'paper' and pc_choice == 'rock' or x == 'rock' and pc_choice == 'scissors' or x == 'scissors' and pc_choice == 'paper':\n",
        "    result = 'Player wins'\n",
        "  else:\n",
        "    result = 'PC wins'\n",
        "  print(result)\n",
        "  userinput = input(\"Would you like to play again (y/n)\")\n",
        "\n",
        "  print(\"Game Over\")"
      ],
      "metadata": {
        "colab": {
          "base_uri": "https://localhost:8080/"
        },
        "id": "qQ_eIvah9YWG",
        "outputId": "c9b3d460-3e99-449e-8d1c-3ccb8e410548"
      },
      "execution_count": null,
      "outputs": [
        {
          "output_type": "stream",
          "name": "stdout",
          "text": [
            "Enter your selection: [rock, paper, scissors]rock\n",
            "paper\n",
            "rock\n",
            "PC wins\n",
            "Would you like to play again (y/n)y\n",
            "Game Over\n",
            "Enter your selection: [rock, paper, scissors]rock\n",
            "scissors\n",
            "rock\n",
            "Player wins\n",
            "Would you like to play again (y/n)no\n",
            "Game Over\n"
          ]
        }
      ]
    },
    {
      "cell_type": "code",
      "source": [
        "# Date For Variables\n",
        "\n",
        "\n",
        "\n"
      ],
      "metadata": {
        "id": "-Ip1II_lblEX",
        "colab": {
          "base_uri": "https://localhost:8080/"
        },
        "outputId": "6ce70750-6852-434e-987f-787f42a1fbf2"
      },
      "execution_count": null,
      "outputs": [
        {
          "output_type": "stream",
          "name": "stdout",
          "text": [
            "4\n"
          ]
        }
      ]
    }
  ]
}