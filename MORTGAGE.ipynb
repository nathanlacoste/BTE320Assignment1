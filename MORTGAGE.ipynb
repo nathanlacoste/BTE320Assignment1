{
  "nbformat": 4,
  "nbformat_minor": 0,
  "metadata": {
    "colab": {
      "provenance": [],
      "authorship_tag": "ABX9TyP2aiqEj4v4rZcRI9Vow7nK",
      "include_colab_link": true
    },
    "kernelspec": {
      "name": "python3",
      "display_name": "Python 3"
    },
    "language_info": {
      "name": "python"
    }
  },
  "cells": [
    {
      "cell_type": "markdown",
      "metadata": {
        "id": "view-in-github",
        "colab_type": "text"
      },
      "source": [
        "<a href=\"https://colab.research.google.com/github/nathanlacoste/BTE320Assignment1/blob/main/MORTGAGE.ipynb\" target=\"_parent\"><img src=\"https://colab.research.google.com/assets/colab-badge.svg\" alt=\"Open In Colab\"/></a>"
      ]
    },
    {
      "cell_type": "code",
      "execution_count": null,
      "metadata": {
        "id": "0w8cGb5wMpz2"
      },
      "outputs": [],
      "source": [
        "class Mortgage:\n",
        "  def __init__(self, amount, maturity, interest):\n",
        "    self.amount = amount\n",
        "    self.maturity = maturity\n",
        "    self.__interest = interest\n",
        "\n",
        "\n",
        "  def get_interest(self):\n",
        "    return self.interest\n",
        "\n",
        "\n",
        "  def set_interest(self, newInterest):\n",
        "    if newInterest >= 0:\n",
        "      self.interest = newInterest\n",
        "    else:\n",
        "      print('Interest must be non-negative')\n",
        "\n",
        "\n",
        "  def payment(self):\n",
        "    B = self.amount\n",
        "    r = self.__interest / 100\n",
        "    n = self.maturity * 12\n",
        "    payment = B * (r * (1 + r) ** n) / ((1 + r) ** n - 1)\n",
        "    print(f'Payment is: $ {payment}')\n",
        "\n",
        "\n",
        "  def __str__(self):\n",
        "    return f\"Mortgage info: \\nPrinciple value: {self.amount} \\nInterest rate: {self.__interest}% \\nTerm: {self.maturity} years\"\n"
      ]
    },
    {
      "cell_type": "code",
      "source": [
        "m = Mortgage(100000, 30, 6)"
      ],
      "metadata": {
        "id": "v4PtiPK3NxKz"
      },
      "execution_count": null,
      "outputs": []
    },
    {
      "cell_type": "code",
      "source": [
        "m.payment()"
      ],
      "metadata": {
        "colab": {
          "base_uri": "https://localhost:8080/"
        },
        "id": "wfYIXOlDOcRa",
        "outputId": "2c0db999-e03b-4fe9-aec5-9ea533050451"
      },
      "execution_count": null,
      "outputs": [
        {
          "output_type": "stream",
          "name": "stdout",
          "text": [
            "Payment is: $ 6000.000004656286\n"
          ]
        }
      ]
    },
    {
      "cell_type": "code",
      "source": [
        "print(m)"
      ],
      "metadata": {
        "colab": {
          "base_uri": "https://localhost:8080/"
        },
        "id": "2lyg3cImvuVE",
        "outputId": "a5fd33c0-fb54-41db-e64a-9ce0c5b3c764"
      },
      "execution_count": null,
      "outputs": [
        {
          "output_type": "stream",
          "name": "stdout",
          "text": [
            "Mortgage info: \n",
            "Principle value: 100000 \n",
            "Interest rate: 6% \n",
            "Term: 30 years\n"
          ]
        }
      ]
    },
    {
      "cell_type": "code",
      "source": [
        "# Class notes\n",
        "\n",
        "\n",
        "class A:\n",
        "  def __init__(self, obj):\n",
        "    self.obj = obj\n",
        "\n",
        "  def whoAmI(self):\n",
        "    print('I am an instance of Class A')\n",
        "\n",
        "  def __str__(self):\n",
        "    return f\"<attribute value: {self.obj}>\"\n",
        "\n",
        "  def __eq__(self, other):\n",
        "    return self.obj == other.obj\n",
        "\n",
        "  def __add__(self, other):\n",
        "    return self.obj + other.obj\n",
        "\n",
        "class B:\n",
        "  def __init__(self, obj):\n",
        "    self.obj = obj\n",
        "\n",
        "  def whoAmI(self):\n",
        "    print('I am an instance of Class B')\n",
        "\n",
        "a1 = A(2)\n",
        "a2 = A(5)\n",
        "b = B(4)"
      ],
      "metadata": {
        "id": "D-8x9IC_oUL_"
      },
      "execution_count": null,
      "outputs": []
    },
    {
      "cell_type": "code",
      "source": [
        "b.whoAmI()"
      ],
      "metadata": {
        "colab": {
          "base_uri": "https://localhost:8080/"
        },
        "id": "uk2LlMV9o66z",
        "outputId": "92c0e999-5820-4f0f-a069-07c88070c84a"
      },
      "execution_count": null,
      "outputs": [
        {
          "output_type": "stream",
          "name": "stdout",
          "text": [
            "I am an instance of Class B\n"
          ]
        }
      ]
    },
    {
      "cell_type": "code",
      "source": [
        "print(a1)"
      ],
      "metadata": {
        "colab": {
          "base_uri": "https://localhost:8080/"
        },
        "id": "4PFRoArDprmA",
        "outputId": "208a52aa-c97e-40f0-c685-78cff051a24a"
      },
      "execution_count": null,
      "outputs": [
        {
          "output_type": "stream",
          "name": "stdout",
          "text": [
            "<attribute value: 2>\n"
          ]
        }
      ]
    },
    {
      "cell_type": "code",
      "source": [
        "a1 + a2"
      ],
      "metadata": {
        "colab": {
          "base_uri": "https://localhost:8080/"
        },
        "id": "DFaVY9wouT9H",
        "outputId": "31361c12-5037-4754-de14-c063a516a1ee"
      },
      "execution_count": null,
      "outputs": [
        {
          "output_type": "execute_result",
          "data": {
            "text/plain": [
              "7"
            ]
          },
          "metadata": {},
          "execution_count": 40
        }
      ]
    }
  ]
}